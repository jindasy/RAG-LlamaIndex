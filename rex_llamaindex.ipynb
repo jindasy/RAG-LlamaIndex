{
 "cells": [
  {
   "cell_type": "markdown",
   "id": "32d013f7",
   "metadata": {},
   "source": [
    "# JavaScript RAG Web App with LlamaIndex"
   ]
  },
  {
   "cell_type": "markdown",
   "id": "49412c5b",
   "metadata": {},
   "source": [
    "### Import required dependencies and load the API key"
   ]
  },
  {
   "cell_type": "code",
   "execution_count": 1,
   "id": "df8739ce-2780-4c8a-b52d-0fb81edaa365",
   "metadata": {
    "height": 183
   },
   "outputs": [],
   "source": [
    "import * as mod from \"https://deno.land/std@0.213.0/dotenv/mod.ts\";\n",
    "import { \n",
    "    Document, \n",
    "    VectorStoreIndex, \n",
    "    SimpleDirectoryReader,\n",
    "    RouterQueryEngine,\n",
    "    storageContextFromDefaults,\n",
    "    ContextChatEngine\n",
    "} from \"npm:llamaindex@0.1.12\"\n",
    "const keys = await mod.load({export:true}) // read API key from .env"
   ]
  },
  {
   "cell_type": "markdown",
   "id": "99e39887",
   "metadata": {},
   "source": [
    "## 1. Persisting your data"
   ]
  },
  {
   "cell_type": "markdown",
   "id": "1407d627",
   "metadata": {},
   "source": [
    "### Set up a storage context"
   ]
  },
  {
   "cell_type": "code",
   "execution_count": 2,
   "id": "382754f9-07a9-4a05-849c-184ab340c882",
   "metadata": {
    "height": 64
   },
   "outputs": [],
   "source": [
    "const storageContext = await storageContextFromDefaults({\n",
    "  persistDir: \"./storage\",\n",
    "});"
   ]
  },
  {
   "cell_type": "markdown",
   "id": "2de8fa27",
   "metadata": {},
   "source": [
    "### Load the data and create an index"
   ]
  },
  {
   "cell_type": "code",
   "execution_count": 3,
   "id": "0a83bc49-d1cf-43b8-b5f2-e229de0920ba",
   "metadata": {
    "height": 115
   },
   "outputs": [],
   "source": [
    "const documents = await new SimpleDirectoryReader().loadData({\n",
    "  directoryPath: \"./data\", // we have the React wikipedia page in here\n",
    "});\n",
    "let index = await VectorStoreIndex.fromDocuments(documents, {\n",
    "  storageContext\n",
    "});"
   ]
  },
  {
   "cell_type": "code",
   "execution_count": null,
   "id": "c5248d51",
   "metadata": {},
   "outputs": [],
   "source": [
    "// const documents = await new SimpleDirectoryReader().loadData({directoryPath: \"./data\"})\n",
    "// const index = await VectorStoreIndex.fromDocuments(documents)\n",
    "// const engine = index.asQueryEngine()"
   ]
  },
  {
   "cell_type": "markdown",
   "id": "70183617",
   "metadata": {},
   "source": [
    "### Let's ask it a question!"
   ]
  },
  {
   "cell_type": "code",
   "execution_count": 4,
   "id": "34574e02",
   "metadata": {},
   "outputs": [
    {
     "name": "stdout",
     "output_type": "stream",
     "text": [
      "There were 10 applicants for TCAS Round 3.\n"
     ]
    }
   ],
   "source": [
    "let engine = await index.asQueryEngine()\n",
    "let response1 = await engine.query({query: \"How many number of applicants for TCAS Round 3?\"})\n",
    "console.log(response1.toString())"
   ]
  },
  {
   "cell_type": "code",
   "execution_count": 5,
   "id": "29534211",
   "metadata": {},
   "outputs": [
    {
     "name": "stdout",
     "output_type": "stream",
     "text": [
      "The proportion of TPAT3 for TCAS Round 3 is 50.00%.\n"
     ]
    }
   ],
   "source": [
    "let response2 = await engine.query({query:\"What is proportion of TPAT3 for TCAS Round 3?\"})\n",
    "console.log(response2.toString())"
   ]
  },
  {
   "cell_type": "code",
   "execution_count": 6,
   "id": "aba018c3",
   "metadata": {},
   "outputs": [
    {
     "name": "stdout",
     "output_type": "stream",
     "text": [
      "The consideration criteria of admission for the Admission Project (TCAS Round 3) includes:\n",
      "1. TGAT general aptitude proportion 20.00\n",
      "2. TPAT3 Aptitude for Science, Technology, Engineering, proportion 50.00\n",
      "3. A-Level Math1 Applied Mathematics 1 proportion 25.00\n",
      "4. A-Level Phy Physics proportion 5.00\n"
     ]
    }
   ],
   "source": [
    "let response3 = await engine.query({query:\"What is Consideration criteria of Admission?\"})\n",
    "console.log(response3.toString())"
   ]
  },
  {
   "cell_type": "markdown",
   "id": "7607dfb3",
   "metadata": {},
   "source": [
    "### Get an index without parsing the documents "
   ]
  },
  {
   "cell_type": "code",
   "execution_count": 7,
   "id": "d2d47e4a-e6c0-415f-92be-45ebba67be98",
   "metadata": {
    "height": 64
   },
   "outputs": [],
   "source": [
    "let storageContext2 = await storageContextFromDefaults({\n",
    "    persistDir: \"./storage\",\n",
    "});"
   ]
  },
  {
   "cell_type": "markdown",
   "id": "a91dad78",
   "metadata": {},
   "source": [
    "### Initialize the index"
   ]
  },
  {
   "cell_type": "code",
   "execution_count": 8,
   "id": "8d6f0326-7144-4b5b-95f5-ba5f3e9cfc21",
   "metadata": {
    "height": 64
   },
   "outputs": [],
   "source": [
    "let index2 = await VectorStoreIndex.init({\n",
    "    storageContext: storageContext2\n",
    "});"
   ]
  },
  {
   "cell_type": "markdown",
   "id": "23ab2471",
   "metadata": {},
   "source": [
    "### Let's query it!"
   ]
  },
  {
   "cell_type": "code",
   "execution_count": 9,
   "id": "d154581a-2a5c-4143-ac49-c98107d8262f",
   "metadata": {
    "height": 64
   },
   "outputs": [
    {
     "name": "stdout",
     "output_type": "stream",
     "text": [
      "The consideration criteria for admission in the Admission Project (TCAS Round 3) are as follows:\n",
      "1. TGAT general aptitude proportion 20.00\n",
      "2. TPAT3 Aptitude for Science, Technology, Engineering, proportion 50.00\n",
      "3. A-Level Math1 Applied Mathematics 1 proportion 25.00\n",
      "4. A-Level Phy Physics proportion 5.00\n"
     ]
    }
   ],
   "source": [
    "let engine2 = await index2.asQueryEngine()\n",
    "let response4 = await engine2.query({query:\"What is Consideration criteria of Admission?\"})\n",
    "console.log(response4.toString())"
   ]
  },
  {
   "cell_type": "code",
   "execution_count": 10,
   "id": "17e77d25",
   "metadata": {},
   "outputs": [
    {
     "name": "stdout",
     "output_type": "stream",
     "text": [
      "The proportion of TPAT3 for TCAS Round 3 is 50.00%.\n"
     ]
    }
   ],
   "source": [
    "let engine2 = await index2.asQueryEngine()\n",
    "let response5 = await engine2.query({query:\"What is proportion of TPAT3 for TCAS Round 3?\"})\n",
    "console.log(response5.toString())"
   ]
  },
  {
   "cell_type": "markdown",
   "id": "988aecd0",
   "metadata": {},
   "source": [
    "## 2. Chatting with your data"
   ]
  },
  {
   "cell_type": "markdown",
   "id": "4bedb39c",
   "metadata": {},
   "source": [
    "### Create a retriever and a new chat engine"
   ]
  },
  {
   "cell_type": "code",
   "execution_count": 11,
   "id": "19489e8c-d71a-4b21-bccf-245cd8be42ae",
   "metadata": {
    "height": 132
   },
   "outputs": [
    {
     "data": {
      "text/plain": [
       "\u001b[33m3\u001b[39m"
      ]
     },
     "execution_count": 11,
     "metadata": {},
     "output_type": "execute_result"
    }
   ],
   "source": [
    "const retriever = index2.asRetriever();\n",
    "retriever.similarityTopK = 3;\n",
    "\n",
    "let chatEngine = new ContextChatEngine({\n",
    "    retriever,\n",
    "});\n"
   ]
  },
  {
   "cell_type": "markdown",
   "id": "8d0bc17d",
   "metadata": {},
   "source": [
    "### Let's try it!"
   ]
  },
  {
   "cell_type": "code",
   "execution_count": 15,
   "id": "5eaebc17-aa7e-452b-ab89-493726fc66a2",
   "metadata": {
    "height": 198
   },
   "outputs": [],
   "source": [
    "let messageHistory = [\n",
    "    {\n",
    "        role: \"user\",\n",
    "        content: \"What is proportion of TPAT3 for TCAS Round 3?\"\n",
    "    },\n",
    "    {\n",
    "        role: \"assistant\",\n",
    "        content: \"The proportion of TPAT3 for TCAS Round 3 is 50.00%.\"\n",
    "    }\n",
    "]"
   ]
  },
  {
   "cell_type": "code",
   "execution_count": 16,
   "id": "bc0a2005-096e-44f2-9949-06ff3419a011",
   "metadata": {
    "height": 47
   },
   "outputs": [],
   "source": [
    "let newMessage = \"What was that last thing you mentioned?\""
   ]
  },
  {
   "cell_type": "code",
   "execution_count": 17,
   "id": "1a18f788-f146-48b9-ba39-f224ad829327",
   "metadata": {
    "height": 98
   },
   "outputs": [
    {
     "name": "stdout",
     "output_type": "stream",
     "text": [
      "The consideration criteria for admission in the Admission Project (TCAS Round 3) are as follows:\n",
      "1. TGAT general aptitude proportion 20.00\n",
      "2. TPAT3 Aptitude for Science, Technology, Engineering, proportion 50.00\n",
      "3. A-Level Math1 Applied Mathematics 1 proportion 25.00\n",
      "4. A-Level Phy Physics proportion 5.00\n"
     ]
    }
   ],
   "source": [
    "const response6 = await chatEngine.chat({\n",
    "  message: newMessage,\n",
    "  chatHistory: messageHistory,\n",
    "});\n",
    "console.log(response4.toString())"
   ]
  },
  {
   "cell_type": "markdown",
   "id": "4c466165",
   "metadata": {},
   "source": [
    "## 3. Streaming"
   ]
  },
  {
   "cell_type": "markdown",
   "id": "70fcbe70",
   "metadata": {},
   "source": [
    "### Setting stream to true!"
   ]
  },
  {
   "cell_type": "code",
   "execution_count": 18,
   "id": "67a85874-e775-4175-8936-0294020dbdd5",
   "metadata": {
    "height": 115
   },
   "outputs": [
    {
     "name": "stdout",
     "output_type": "stream",
     "text": [
      "_async_generator$4 { _invoke: [Function: send] }\n"
     ]
    }
   ],
   "source": [
    "const response6 = await chatEngine.chat({\n",
    "  message: newMessage,\n",
    "  chatHistory: messageHistory,\n",
    "  stream: true,\n",
    "});\n",
    "console.log(response6)"
   ]
  },
  {
   "cell_type": "markdown",
   "id": "c719a935",
   "metadata": {},
   "source": [
    "### Check the response!"
   ]
  },
  {
   "cell_type": "code",
   "execution_count": 19,
   "id": "f61332af-1a63-44ec-8581-999345398fb3",
   "metadata": {
    "height": 64
   },
   "outputs": [
    {
     "name": "stdout",
     "output_type": "stream",
     "text": [
      "\n",
      "Ap\n",
      "ologies\n",
      " for\n",
      " the\n",
      " confusion\n",
      ".\n",
      " The\n",
      " last\n",
      " thing\n",
      " mentioned\n",
      " was\n",
      " the\n",
      " minimum\n",
      " conditions\n",
      " for\n",
      " admission\n",
      " in\n",
      " TC\n",
      "AS\n",
      " Round\n",
      " \n",
      "3\n",
      ",\n",
      " which\n",
      " include\n",
      " TG\n",
      "AT\n",
      " General\n",
      " Apt\n",
      "itude\n",
      " not\n",
      " less\n",
      " than\n",
      " \n",
      "1\n",
      ".\n",
      "00\n",
      " points\n",
      ",\n",
      " TP\n",
      "AT\n",
      "3\n",
      " Apt\n",
      "itude\n",
      " for\n",
      " science\n",
      ",\n",
      " technology\n",
      ",\n",
      " engineering\n",
      " not\n",
      " less\n",
      " than\n",
      " \n",
      "1\n",
      ".\n",
      "00\n",
      " points\n",
      ",\n",
      " and\n",
      " A\n",
      "-Level\n",
      " Math\n",
      "1\n",
      " Applied\n",
      " Mathematics\n",
      " \n",
      "1\n",
      " not\n",
      " less\n",
      " than\n",
      " \n",
      "1\n",
      ".\n",
      "00\n",
      " points\n",
      ".\n",
      "\n"
     ]
    }
   ],
   "source": [
    "for await (const data of response6) {\n",
    "    console.log(data.response); // Print the data\n",
    "}"
   ]
  },
  {
   "cell_type": "markdown",
   "id": "1f696259",
   "metadata": {},
   "source": [
    "## Create Llama App"
   ]
  },
  {
   "cell_type": "code",
   "execution_count": 20,
   "id": "3f4395d9-875d-42e5-9349-ff298a6fb2e5",
   "metadata": {
    "height": 30
   },
   "outputs": [],
   "source": [
    "import { runCreateLlamaApp } from './utils.ts'"
   ]
  },
  {
   "cell_type": "code",
   "execution_count": 21,
   "id": "f2c044fa-68b3-4507-bfe1-a6f11aa22b61",
   "metadata": {
    "height": 30
   },
   "outputs": [
    {
     "data": {
      "text/html": [
       "Check <a href=http://localhost:3000 target='_blank'>http://localhost:3000</a> you'll see a web app set up with our data! "
      ],
      "text/plan": [
       "http://localhost:3000"
      ]
     },
     "execution_count": 21,
     "metadata": {},
     "output_type": "execute_result"
    }
   ],
   "source": [
    "runCreateLlamaApp()"
   ]
  }
 ],
 "metadata": {
  "kernelspec": {
   "display_name": "Deno",
   "language": "typescript",
   "name": "deno"
  },
  "language_info": {
   "file_extension": ".ts",
   "mimetype": "text/x.typescript",
   "name": "typescript",
   "nb_converter": "script",
   "pygments_lexer": "typescript",
   "version": "5.4.3"
  }
 },
 "nbformat": 4,
 "nbformat_minor": 5
}
